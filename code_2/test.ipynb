{
 "cells": [
  {
   "cell_type": "code",
   "execution_count": null,
   "metadata": {
    "vscode": {
     "languageId": "plaintext"
    }
   },
   "outputs": [],
   "source": [
    "import dask.dataframe as dd\n",
    "from dask.diagnostics import ProgressBar\n",
    "df = ds.resample({\"XTIME\": \"D\"}).max().to_dataframe(\n",
    "    ).drop(columns = [\"XLONG\", \"XLAT\"])\n",
    "df = df.reset_index()\n",
    "df[\"XTIME\"] = df[\"XTIME\"].astype(str)\n",
    "df_2 = ds.to_dataframe()\n",
    "df_2[\"hour\"] = df_2.index.get_level_values(\"XTIME\").hour.astype(int)\n",
    "df_2 = df_2.reset_index()\n",
    "df_2[\"XTIME\"] = df_2[\"XTIME\"].dt.date.astype(str)\n",
    "df_2 = df_2.set_index([\"XTIME\", \"south_north\", \"west_east\"])\n",
    "df_i = dd.from_pandas(df.iloc[:132*112*10], chunksize=66)\n",
    "df_i[\"hour\"] = df_i.apply(lambda x: df_2[df_2[\"P_mp\"]==x[\"P_mp\"]].loc[\n",
    "    (x[\"XTIME\"], x[\"south_north\"], x[\"west_east\"]), \"hour\"],\n",
    "    axis = 1, meta = pd.Series(dtype = str))\n",
    "with ProgressBar(): df_i.compute()"
   ]
  }
 ],
 "metadata": {
  "language_info": {
   "name": "python"
  }
 },
 "nbformat": 4,
 "nbformat_minor": 2
}
