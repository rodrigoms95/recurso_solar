{
 "cells": [
  {
   "cell_type": "code",
   "execution_count": 1,
   "metadata": {},
   "outputs": [],
   "source": [
    "import os\n",
    "\n",
    "import numpy as np\n",
    "import pandas as pd\n",
    "\n",
    "import xarray as xr\n",
    "\n",
    "import xesmf as xe"
   ]
  },
  {
   "cell_type": "code",
   "execution_count": null,
   "metadata": {},
   "outputs": [],
   "source": [
    "path_d = \"../results/\"\n",
    "path_r = \"../temp/NSRDB/\"\n",
    "names = [ \"NSRDB_4km.nc\", \"NSRDB_2km.nc\" ]\n",
    "with xr.open_dataset(path_d + names[0]) as ds_4:\n",
    "    with xr.open_dataset(path_d + names[1]) as ds_2:\n",
    "        #ds_4 = ds_4.sel(ds_4[\"time\"].dt.year.isin(\n",
    "        #    np.unique( ds_2[\"time\"].dt.year.values ) ))\n",
    "        ds_4[\"Temperature\"] += 273.15\n",
    "        ds_4[\"Dew Point\"] += 273.15\n",
    "        ds_2[\"Temperature\"] += 273.15\n",
    "        ds_2[\"Dew Point\"] += 273.15\n",
    "        ds_2 = ds_2.drop_vars(\"Cloud Type\")#\n",
    "\n",
    "        # Cambiamos la resolución.\n",
    "        regridder = xe.Regridder( ds_4, ds_2, \"conservative\" )\n",
    "        ds_2_int = regridder( ds_4, keep_attrs = True )\n",
    "\n",
    "        v_uv = [ \"Global Horizontal UV Irradiance (280-400nm)\",\n",
    "            \"Global Horizontal UV Irradiance (295-385nm)\" ]\n",
    "\n",
    "        f_int = ds_2 / ds_2_int.drop_vars( v_uv )\n",
    "        f_int = f_int.where( f_int.apply(np.isfinite) & ~f_int.isnull(), 1 )\n",
    "        f_int = f_int.mean( \"time\", skipna = True )\n",
    "        f_int[ v_uv[0] ] = f_int[\"GHI\"]\n",
    "        f_int[ v_uv[1] ] = f_int[\"GHI\"]\n",
    "        f_int.to_netcdf(path_d + \"NSRDB_f_int.nc\")\n",
    "\n",
    "        ds_2_corr = ds_2_int * f_int\n",
    "        ds_2_corr[\"UVHI\"] = ds_2_corr[ v_uv[0] ] + ds_2_corr[ v_uv[1] ]\n",
    "        ds_2_corr = ds_2_corr.rename_vars( {\n",
    "            \"Relative Humidity\": \"Relative_Humidity\",\n",
    "            \"Wind Speed\": \"Wind_Speed\", \"Wind Direction\": \"Wind_Direction\",\n",
    "            \"Dew Point\": \"Dew_Point\", \"Surface Albedo\": \"Surface_Albedo\",\n",
    "            \"Precipitable Water\": \"Precipitable_Water\",\n",
    "            \"Solar Zenith Angle\": \"Solar_Zenith_Angle\",\n",
    "            v_uv[0]: \"UV_A\", v_uv[1]: \"UV_B\" } )\n",
    "        \n",
    "        f_regrid = \"../temp/WRF_miroc_1985_2014_00054.nc\"\n",
    "        ds_rg = xr.open_dataset(f_regrid).drop_dims(\"bnds\")\n",
    "        ds_rg = ds_rg.isel( { \"south_north\": slice(1, 4),\n",
    "            \"west_east\": slice(2, 5) } )\n",
    "        ds_rg_2 = ds_rg.copy()\n",
    "        ds_rg[\"XLAT\"] = ds_rg[\"XLAT\"].isel({\"west_east\": 0})\n",
    "        ds_rg[\"XLONG\"] = ds_rg[\"XLONG\"].isel({\"south_north\": 0})\n",
    "        ds_rg = ds_rg.rename_vars( { \"XLAT\": \"lat\",\n",
    "            \"XLONG\": \"lon\", \"XTIME\": \"time\" } )\n",
    "        ds_rg = ds_rg.swap_dims( { \"south_north\": \"lat\", \n",
    "            \"west_east\": \"lon\", \"XTIME\": \"time\" } )\n",
    "        \n",
    "        # Cambiamos la resolución.\n",
    "        regridder = xe.Regridder( ds_2_corr, ds_rg, \"conservative\" )\n",
    "        ds_2_rg = regridder( ds_2_corr, keep_attrs = True )\n",
    "\n",
    "        ds_f = ds_rg_2.reindex( { \"XTIME\": ds_2_rg[\"time\"].values }\n",
    "            ).drop_vars(\"Dew_Point\")\n",
    "        dims = [\"XTIME\", \"south_north\", \"west_east\"]\n",
    "\n",
    "        vars = list(ds_2_rg.keys())\n",
    "\n",
    "        for v in vars: ds_f[v] = ( dims, ds_2_rg[v].values )\n",
    "        ds_f[[v]].to_netcdf( path_r + \"quantile_prep/NSRDB_int_001.nc\" ) \n",
    "\n",
    "        for i in [\"UV_A\", \"UV_B\", \"Solar_Zenith_Angle\", \"Dew_Point\", \"DHI\"]:\n",
    "            vars.remove(i)\n",
    "\n",
    "        for v in vars:\n",
    "            if not os.path.exists( path_r + \"quantile_vars/\" + v + \"/\" ):\n",
    "                os.mkdir( path_r + \"quantile_vars/\" + v + \"/\" )\n",
    "            ds_f[[v]].to_netcdf( path_r + \"quantile_vars/\"\n",
    "                + v + \"/WRF_miroc_1985_2014_00054.nc\" ) "
   ]
  },
  {
   "cell_type": "code",
   "execution_count": 3,
   "metadata": {},
   "outputs": [
    {
     "data": {
      "text/plain": [
       "'../temp/WRF_miroc_1985_2014/WRF_miroc_1985_2014_2km_weights.nc'"
      ]
     },
     "execution_count": 3,
     "metadata": {},
     "output_type": "execute_result"
    }
   ],
   "source": [
    "import os\n",
    "\n",
    "import numpy as np\n",
    "import pandas as pd\n",
    "\n",
    "import xarray as xr\n",
    "\n",
    "import xesmf as xe\n",
    "\n",
    "path_d = \"../temp/WRF_miroc_1985_2014/\"\n",
    "files = [ \"WRF_miroc_1985_2014_0.nc\", \"NSRDB_2km.nc\" ]\n",
    "path_r = \"../temp/WRF_miroc_1985_2014/WRF_miroc_1985_2014_2km_weights.nc\"\n",
    "\n",
    "ds = []\n",
    "for f in files: ds.append( xr.open_dataset(path_d + f ) )\n",
    "\n",
    "ds[1] = ds[1].isel({\"lat\": slice(3, -4), \"lon\": slice(1, -3)})\n",
    "\n",
    "xe.Regridder( ds[0], ds[1], method = \"bilinear\" ).to_netcdf(path_r)"
   ]
  },
  {
   "cell_type": "code",
   "execution_count": 1,
   "metadata": {},
   "outputs": [],
   "source": [
    "import os\n",
    "\n",
    "import numpy as np\n",
    "import pandas as pd\n",
    "\n",
    "import xarray as xr\n",
    "\n",
    "import xesmf as xe\n",
    "\n",
    "i = 6\n",
    "path_d = \"../temp/\"\n",
    "files = [ f\"WRF_miroc_1985_2014_{i}.nc\", \"NSRDB_2km.nc\",\n",
    "    \"WRF_miroc_1985_2014_2km_weights.nc\" ]\n",
    "path_r = f\"../temp/WRF_miroc_1985_2014_2km_{i}.nc\"\n",
    "\n",
    "ds = []\n",
    "for f in files: ds.append( xr.open_dataset(path_d + f ) )\n",
    "\n",
    "ds[1] = ds[1].isel({\"lat\": slice(3, -4), \"lon\": slice(1, -3)})\n",
    "\n",
    "regridder = xe.Regridder( ds[0], ds[1],\n",
    "    method = \"bilinear\", weights = ds[2] )\n",
    "\n",
    "regridder( ds[0] ).to_netcdf(path_r)"
   ]
  }
 ],
 "metadata": {
  "kernelspec": {
   "display_name": "xarray",
   "language": "python",
   "name": "python3"
  },
  "language_info": {
   "codemirror_mode": {
    "name": "ipython",
    "version": 3
   },
   "file_extension": ".py",
   "mimetype": "text/x-python",
   "name": "python",
   "nbconvert_exporter": "python",
   "pygments_lexer": "ipython3",
   "version": "3.12.2"
  }
 },
 "nbformat": 4,
 "nbformat_minor": 2
}
