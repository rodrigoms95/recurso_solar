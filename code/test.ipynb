{
 "cells": [
  {
   "cell_type": "code",
   "execution_count": 1,
   "metadata": {},
   "outputs": [],
   "source": [
    "# Convierte de CSV a NetCDF.\n",
    "\n",
    "import os\n",
    "import sys\n",
    "\n",
    "import numpy as np\n",
    "import pandas as pd\n",
    "\n",
    "import xarray as xr\n",
    "\n",
    "# Datos de entrada\n",
    "path_d = \"/Volumes/DATA/temp/temp/NSRDB_2km/CSV/\"\n",
    "path_r = \"/Volumes/DATA/temp/temp/NSRDB_2km/NetCDF/\"\n",
    "files = os.listdir(path_d)\n",
    "if \".DS_Store\" in files: files.remove(\".DS_Store\")"
   ]
  },
  {
   "cell_type": "code",
   "execution_count": 2,
   "metadata": {},
   "outputs": [
    {
     "name": "stdout",
     "output_type": "stream",
     "text": [
      " Procesando coordenadas 18.08°N -99.99°W...    \r"
     ]
    }
   ],
   "source": [
    "f=\"18.08_-99.99.csv\"\n",
    "lat = f[:5]\n",
    "lon = f[6:-4]\n",
    "print(f\" Procesando coordenadas {lat}°N {lon}°W...    \", end = \"\\r\")\n",
    "\n",
    "if not os.path.exists(f\"{path_r}{lat}_{lon}.nc\"):\n",
    "    df = pd.read_csv( path_d + f, index_col = \"time\",\n",
    "        parse_dates = True ).reset_index()\n",
    "\n",
    "    # Convertimos a Dataset.\n",
    "    df[\"lat\" ] = float(lat)\n",
    "    df[\"lon\"] = float(lon)\n",
    "    ds = df.set_index( [\"time\", \"lat\", \"lon\"] ).astype( float\n",
    "        ).round( decimals = 1 ).to_xarray()\n",
    "    ds[\"lat\"] = ds[\"lat\"].assign_attrs( standard_name = \"latitude\",\n",
    "            long_name = \"Latitude\", units = \"degrees\" )\n",
    "    ds[\"lon\"] = ds[\"lon\"].assign_attrs( standard_name = \"longitude\",\n",
    "            long_name = \"Longitude\", units = \"degrees\" )\n",
    "    ds.to_netcdf( f\"{path_r}{lat}_{lon}.nc\" )"
   ]
  },
  {
   "cell_type": "code",
   "execution_count": 1,
   "metadata": {},
   "outputs": [],
   "source": [
    "import numpy as np\n",
    "import pandas as pd\n",
    "import xarray as xr\n",
    "import os\n",
    "\n",
    "path = \"/Volumes/DATA/temp/temp/NSRDB_2km/NetCDF_n/\"\n",
    "path_r = \"/Volumes/DATA/data/NSRDB_2km.nc\"\n",
    "files = os.listdir(path)\n",
    "\n",
    "if \".DS_Store\" in files: files.remove(\".DS_Store\")\n",
    "ds = []\n",
    "for f in files: ds.append( xr.open_dataset(path + f) )\n",
    "xr.concat(ds, dim = \"lat\").to_netcdf(path_r)"
   ]
  }
 ],
 "metadata": {
  "kernelspec": {
   "display_name": "gv",
   "language": "python",
   "name": "python3"
  },
  "language_info": {
   "codemirror_mode": {
    "name": "ipython",
    "version": 3
   },
   "file_extension": ".py",
   "mimetype": "text/x-python",
   "name": "python",
   "nbconvert_exporter": "python",
   "pygments_lexer": "ipython3",
   "version": "3.12.2"
  }
 },
 "nbformat": 4,
 "nbformat_minor": 2
}
