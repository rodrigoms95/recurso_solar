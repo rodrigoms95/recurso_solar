{
 "cells": [
  {
   "cell_type": "code",
   "execution_count": 59,
   "metadata": {},
   "outputs": [],
   "source": [
    "import numpy as np\n",
    "import pandas as pd\n",
    "\n",
    "import xarray as xr\n",
    "\n",
    "# Inicializamos el dashboard de cómputo distribuido.\n",
    "#from dask.distributed import Client\n",
    "#c_lat = 5\n",
    "#c_lon = 5\n",
    "#client = Client( n_workers = 5, threads_per_worker = 5,\n",
    "#    memory_limit = \"1.5GB\" )\n",
    "#client"
   ]
  },
  {
   "cell_type": "code",
   "execution_count": 60,
   "metadata": {},
   "outputs": [],
   "source": [
    "# Cargamos el archivo.\n",
    "n = 0\n",
    "path_1 = f\"../temp/WRF/WRF_miroc_1985_2014_4_crop.nc\"\n",
    "path_2 = f\"../temp/WRF_miroc_1985_2014_4_crop_2.nc\"\n",
    "ds = xr.open_dataset(path_1)"
   ]
  }
 ],
 "metadata": {
  "kernelspec": {
   "display_name": "gv",
   "language": "python",
   "name": "python3"
  },
  "language_info": {
   "codemirror_mode": {
    "name": "ipython",
    "version": 3
   },
   "file_extension": ".py",
   "mimetype": "text/x-python",
   "name": "python",
   "nbconvert_exporter": "python",
   "pygments_lexer": "ipython3",
   "version": "3.9.9"
  }
 },
 "nbformat": 4,
 "nbformat_minor": 2
}
