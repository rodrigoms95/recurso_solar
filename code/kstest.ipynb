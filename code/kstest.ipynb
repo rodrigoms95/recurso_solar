{
 "cells": [
  {
   "cell_type": "code",
   "execution_count": null,
   "metadata": {},
   "outputs": [],
   "source": [
    "d = 0\n",
    "dist_f = [stats.norm, stats.gamma, stats.expon, stats.beta]\n",
    "\n",
    "dist = dist_f[d]( *dist_f[d].fit( df[ columns[v + 4] ] ) )\n",
    "print(\"Kolmogorov-Smirnoff pvalue: \" +\n",
    "    f\"{stats.kstest(df[ columns[v + 4] ], dist.cdf)[1]}\" )"
   ]
  },
  {
   "cell_type": "code",
   "execution_count": null,
   "metadata": {},
   "outputs": [],
   "source": [
    "# Seleccionamos la variable.\n",
    "# 1: GHI, 2: Relative Humidity, 3: Temperature.\n",
    "v = 3\n",
    "\n",
    "# Seleccionamos una distribución y probamos la bondad de ajuste.\n",
    "d = 0\n",
    "dist_f = [ stats.norm, stats.gamma, stats.expon,   stats.beta ]\n",
    "dist_n = [ \"Normal\",   \"Gamma\",     \"Exponencial\", \"Beta\"     ]\n",
    "\n",
    "dist = dist_f[d]( *dist_f[d].fit( df[ columns[v + 4] ] ) )\n",
    "print(f\"Distribución seleccionada: {dist_n[d]}\")\n",
    "print(\"Kolmogorov-Smirnoff pvalue: \" +\n",
    "    f\"{stats.kstest(df[ columns[v + 4] ], dist.cdf)[1]}\" )\n",
    "\n",
    "# Graficamos\n",
    "fig, ax = plt.subplots()\n",
    "fig.set_facecolor(\"w\")\n",
    "fig.set_size_inches(6, 6)\n",
    "fig.set_dpi(150) \n",
    "\n",
    "n = df[ columns[v + 4] ].sort_values()\n",
    "ax.plot( n, np.linspace( 1 / df.shape[0] , 1, df.shape[0]) )\n",
    "ax.plot( n, dist.cdf(n) )\n",
    "\n",
    "ax.set_title(\"Ajuste de la curva de distribución\")\n",
    "ax.set_xlim( df[ columns[v + 4] ].min(), df[ columns[v + 4] ].max() )\n",
    "ax.set_ylim(0, 1)\n",
    "ax.legend( [\"Datos\", dist_n[d]] )\n",
    "fig.tight_layout()\n",
    "plt.show()"
   ]
  }
 ],
 "metadata": {
  "language_info": {
   "name": "python"
  }
 },
 "nbformat": 4,
 "nbformat_minor": 2
}
