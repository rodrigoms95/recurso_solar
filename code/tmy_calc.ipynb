{
 "cells": [
  {
   "cell_type": "code",
   "execution_count": null,
   "metadata": {},
   "outputs": [],
   "source": [
    "years = np.arange(1990, 2002)\n",
    "TZ = -6\n",
    "\n",
    "ds_temp = ds.convert_calendar(\"noleap\")\n",
    "ds_temp[\"time\"] =  ds_temp.indexes[\"time\"].shift(TZ, \"h\")\n",
    "\n",
    "ds_m = []\n",
    "for i in range(years.shape[0]):\n",
    "    ds_m.append( ds.where( ( (ds[\"time\"].dt.month==(i+1)) &\n",
    "        (ds[\"time\"].dt.year==years[i]) ), drop = True ) )\n",
    "ds_tmy = xr.concat(ds_m, dim = \"time\")"
   ]
  },
  {
   "cell_type": "code",
   "execution_count": null,
   "metadata": {},
   "outputs": [],
   "source": [
    "df_tmy = ds_tmy.to_dataframe()\n",
    "time = df_tmy.index.get_level_values(\"time\")\n",
    "m = 1\n",
    "front = df_tmy.loc[ ( ( ( time.month.isin([m]) & time.hour.isin(range(18, 24)) )\n",
    "    | ( time.month.isin([1 + 1]) & time.hour.isin(range(0, 6)) ) ), lat, lon ), v ]"
   ]
  }
 ],
 "metadata": {
  "language_info": {
   "name": "python"
  }
 },
 "nbformat": 4,
 "nbformat_minor": 2
}
