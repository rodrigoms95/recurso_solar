{
 "cells": [
  {
   "cell_type": "code",
   "execution_count": null,
   "metadata": {},
   "outputs": [],
   "source": [
    "# Calculamos el TMY para todos los puntos.\n",
    "import os\n",
    "\n",
    "import itertools as it\n",
    "\n",
    "import numpy as np\n",
    "import pandas as pd\n",
    "\n",
    "import xarray as xr"
   ]
  },
  {
   "cell_type": "code",
   "execution_count": null,
   "metadata": {},
   "outputs": [],
   "source": [
    "def interpolate(ds):\n",
    "    "
   ]
  },
  {
   "cell_type": "code",
   "execution_count": null,
   "metadata": {},
   "outputs": [],
   "source": [
    "# Cargamos el archivo.\n",
    "path_d = \"../temp/radiacion/\"\n",
    "path_r = \"../temp/TMY_years/\"\n",
    "path_y = \"../temp/TMY_years/\"\n",
    "\n",
    "TZ = -6\n",
    "\n",
    "files = os.listdir(path_d)\n",
    "files.sort()\n",
    "if \".DS_Store\" in files: files.remove(\".DS_Store\")\n",
    "for f in files:\n",
    "    print(f\"{f[-5:-3]}\", end=\",\")\n",
    "    df_y = pd.read_csv(path_y + f)\n",
    "    with xr.open_dataset( path_d + f ) as ds:\n",
    "        ds[\"time\"] = ds.indexes[\"time\"].shift(TZ, \"h\")\n",
    "        # Quitamos los 29 de febrero.\n",
    "        ds = ds.sel( time = ~( (ds.time.dt.month == 2)\n",
    "            & (ds.time.dt.day == 29) ) )\n",
    "        \n",
    "        ds_tmy = ds.isel({\"time\": slice(0, 365)}).copy()\n",
    "        ds_tmy[\"time\"] = pd.date_range( \"01/01/2001 00:00:00\",\n",
    "            \"31/12/2001 23:00:00\", freq = \"H\" )\n",
    "        \n",
    "        for lat in ds[\"latitude\"]:\n",
    "            for lon in ds[\"longitude\"]:\n",
    "                years = df_y.loc[(lat, lon)]\n",
    "                ds_y = ds.sel({\"time\": years})\n",
    "                ds_m = []\n",
    "                for i in range(years.shape[0]):\n",
    "                    ds_m.append( ds.where( ( (ds[\"time\"].dt.month==(i+1)) &\n",
    "                        (ds[\"time\"].dt.year==years[i]) ), drop = True ) )\n",
    "                    ds_tmy = xr.concat(ds_m, dim = \"time\")"
   ]
  },
  {
   "cell_type": "code",
   "execution_count": null,
   "metadata": {},
   "outputs": [],
   "source": [
    "years = np.arange(1990, 2002)\n",
    "TZ = -6\n",
    "ds_temp = ds.convert_calendar(\"noleap\")\n",
    "\n",
    "ds_temp[\"time\"] =  ds_temp.indexes[\"time\"].shift(TZ, \"h\")\n",
    "\n",
    "ds_m = []\n",
    "for i in range(years.shape[0]):\n",
    "    ds_m.append( ds.where( ( (ds[\"time\"].dt.month==(i+1)) &\n",
    "        (ds[\"time\"].dt.year==years[i]) ), drop = True ) )\n",
    "ds_tmy = xr.concat(ds_m, dim = \"time\")"
   ]
  },
  {
   "cell_type": "code",
   "execution_count": null,
   "metadata": {},
   "outputs": [],
   "source": [
    "df_tmy = ds_tmy.to_dataframe()\n",
    "time = df_tmy.index.get_level_values(\"time\")\n",
    "m = 1\n",
    "front = df_tmy.loc[ ( ( ( time.month.isin([m]) & time.hour.isin(range(18, 24)) )\n",
    "    | ( time.month.isin([1 + 1]) & time.hour.isin(range(0, 6)) ) ), lat, lon ), v ]"
   ]
  }
 ],
 "metadata": {
  "kernelspec": {
   "display_name": "gv",
   "language": "python",
   "name": "python3"
  },
  "language_info": {
   "name": "python",
   "version": "3.9.9"
  }
 },
 "nbformat": 4,
 "nbformat_minor": 2
}
