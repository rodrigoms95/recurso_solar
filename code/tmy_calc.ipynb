{
 "cells": [
  {
   "cell_type": "code",
   "execution_count": 1,
   "metadata": {},
   "outputs": [],
   "source": [
    "# Unimos el año corespondientes a cada mes para obtener\n",
    "# el TMY y suavizamos la frontera entre meses.\n",
    "import os\n",
    "\n",
    "import numpy as np\n",
    "import pandas as pd\n",
    "\n",
    "import xarray as xr\n",
    "\n",
    "import scipy.interpolate as interp"
   ]
  },
  {
   "cell_type": "code",
   "execution_count": 45,
   "metadata": {},
   "outputs": [
    {
     "name": "stdout",
     "output_type": "stream",
     "text": [
      "00,"
     ]
    }
   ],
   "source": [
    "# Datos.\n",
    "months = np.arange(1, 13)\n",
    "m_d = [31, 28, 31, 30, 31, 30, 31, 31, 30, 31, 30, 31]\n",
    "vars = [\"Temperature\", \"Pressure\", \"Wind_Speed\",\n",
    "    \"Wind_Direction\", \"Relative_Humidity\" ]\n",
    "# Zona Horaria.\n",
    "TZ = -6\n",
    "\n",
    "# Cargamos el archivo.\n",
    "path_d = \"../temp/radiacion/\"\n",
    "path_y = \"../temp/TMY_years/\"\n",
    "path_r = \"../temp/TMY/\"\n",
    "\n",
    "# Iteramos para todos los archivos.\n",
    "files = os.listdir(path_d)\n",
    "files.sort()\n",
    "if \".DS_Store\" in files: files.remove(\".DS_Store\")\n",
    "for f in files:\n",
    "    print( f\"{f[-5:-3]}\", end = \",\" )\n",
    "    # Abrimos la lista de años.\n",
    "    with xr.open_dataset( path_y + f ) as ds_y:\n",
    "        # Abrimos los datos para todos los años.\n",
    "        with xr.open_dataset( path_d + f,\n",
    "            drop_variables = \"Dew_Point\" ) as ds:\n",
    "            # Recorremos de UTC a tiempo local.\n",
    "            ds[\"time\"] = ds.indexes[\"time\"].shift(TZ, \"h\")\n",
    "            # Quitamos los 29 de febrero.\n",
    "            ds = ds.sel( time = ~( (ds.time.dt.month == 2)\n",
    "                & (ds.time.dt.day == 29) ) )\n",
    "            # Creamos la variable de año.\n",
    "            ds[\"Year\"] = ds[\"Temperature\"].astype(np.int32).copy()\n",
    "            # Creamos un Dataset de solo un año.\n",
    "            ds_tmy = ds.isel({\"time\": slice(0, 8760)}).copy()\n",
    "            ds_tmy[\"time\"] = pd.date_range( \"01/01/2001 00:00:00\",\n",
    "                \"31/12/2001 23:00:00\", freq = \"h\" )\n",
    "\n",
    "            # Iteramos para todas las celdas.\n",
    "            for lat in ds[\"lat\"].values:\n",
    "                for lon in ds[\"lon\"].values:\n",
    "                    # Iteramos para todos los meses.\n",
    "                    for m in months:\n",
    "                        # Obtenemos el año que corresponde al mes\n",
    "                        # y asignamos esa información al TMY.\n",
    "                        y = ds_y.loc[ {\"lat\": [lat],\n",
    "                            \"lon\": [lon], \"Month\": [m]} ].to_array()\n",
    "                        ds_m = ds.loc[ {\"time\": ( ds.time.dt.month.isin(m)\n",
    "                            & ds.time.dt.year.isin(y) ),\n",
    "                            \"lat\": [lat], \"lon\": [lon]} ]\n",
    "                        ds_m[\"Year\"] = ds_m[\"time\"].dt.year\n",
    "                        ds_m[\"time\"] = ds_tmy.loc[ { \"time\":\n",
    "                            ds_tmy.time.dt.month.isin(m) } ][\"time\"]\n",
    "                        ds_tmy.loc[ {\"time\": ds_tmy.time.dt.month.isin(m),\n",
    "                            \"lat\": [lat], \"lon\": [lon]} ] = ds_m\n",
    "                        \n",
    "                    # Suavizamos 6 horas con un spline.\n",
    "                    for m in months[:-1]:\n",
    "                        # Iteramos para todas las variables\n",
    "                        # menos las de radiación.\n",
    "                        for v in vars:\n",
    "                            ds_i = ds_tmy.loc[ { \"time\": ( ( \n",
    "                                ds_tmy[\"time\"].dt.month.isin([m])\n",
    "                                &  ds_tmy[\"time\"].dt.day.isin([m_d[m-1]])\n",
    "                                &  ds_tmy[\"time\"].dt.hour.isin(range(18, 24)) )\n",
    "                                | ( ds_tmy[\"time\"].dt.month.isin([m+1])\n",
    "                                &  ds_tmy[\"time\"].dt.day.isin([1])\n",
    "                                & ds_tmy[\"time\"].dt.hour.isin(range(0, 6)) ) ),\n",
    "                                \"lat\": lat, \"lon\": lon } ][v]\n",
    "                            ds_i = interp.splev( months,\n",
    "                                interp.splrep( months, ds_i.values ) )\n",
    "\n",
    "            # Guardamos el archivo.         \n",
    "            ds_tmy.to_netcdf(path_r + f)"
   ]
  }
 ],
 "metadata": {
  "kernelspec": {
   "display_name": "gv",
   "language": "python",
   "name": "python3"
  },
  "language_info": {
   "codemirror_mode": {
    "name": "ipython",
    "version": 3
   },
   "file_extension": ".py",
   "mimetype": "text/x-python",
   "name": "python",
   "nbconvert_exporter": "python",
   "pygments_lexer": "ipython3",
   "version": "3.12.2"
  }
 },
 "nbformat": 4,
 "nbformat_minor": 2
}
