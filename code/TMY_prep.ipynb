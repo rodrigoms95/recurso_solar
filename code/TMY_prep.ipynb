{
 "cells": [
  {
   "cell_type": "code",
   "execution_count": 1,
   "metadata": {},
   "outputs": [],
   "source": [
    "# Paso 3 con mapeo de cuantiles.\n",
    "# Paso 2 sin mapeo de cuantiles.\n",
    "# Obtiene la variable DNI (Direct Normal Irradiance)\n",
    "# a partir de GHI usando el modelo DISC de NREL.\n",
    "\n",
    "import numpy as np\n",
    "import pandas as pd\n",
    "\n",
    "import xarray as xr\n",
    "\n",
    "# Inicializamos el dashboard de cómputo distribuido.\n",
    "#from dask.distributed import Client\n",
    "c_lat = 5\n",
    "c_lon = 5\n",
    "#Client( n_workers = 4, threads_per_worker = 5, memory_limit = \"2GB\" )"
   ]
  },
  {
   "cell_type": "code",
   "execution_count": 2,
   "metadata": {},
   "outputs": [],
   "source": [
    "path_1=\"/Volumes/DATA/data/WRF_miroc_1985_2014.nc\"\n",
    "m=1\n",
    "path_2=\"/Volumes/DATA/data/WRF_miroc_1985_2014_\"$m\".nc\"\n",
    "cdo selmon,$m $path_1 $path_2\n"
   ]
  },
  {
   "cell_type": "code",
   "execution_count": null,
   "metadata": {},
   "outputs": [],
   "source": [
    "ds"
   ]
  },
  {
   "cell_type": "markdown",
   "metadata": {},
   "source": []
  }
 ],
 "metadata": {
  "kernelspec": {
   "display_name": "gv",
   "language": "python",
   "name": "python3"
  },
  "language_info": {
   "codemirror_mode": {
    "name": "ipython",
    "version": 3
   },
   "file_extension": ".py",
   "mimetype": "text/x-python",
   "name": "python",
   "nbconvert_exporter": "python",
   "pygments_lexer": "ipython3",
   "version": "3.9.9"
  }
 },
 "nbformat": 4,
 "nbformat_minor": 2
}
