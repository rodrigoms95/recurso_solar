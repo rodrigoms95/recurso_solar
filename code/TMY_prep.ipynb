{
 "cells": [
  {
   "cell_type": "code",
   "execution_count": null,
   "metadata": {},
   "outputs": [],
   "source": [
    "import numpy as np\n",
    "import pandas as pd\n",
    "\n",
    "import xarray as xr\n",
    "\n",
    "import dask\n",
    "dask.config.set( { \"scheduler\": \"threads\" } )"
   ]
  },
  {
   "cell_type": "code",
   "execution_count": null,
   "metadata": {},
   "outputs": [],
   "source": [
    "# Constantes\n",
    "Rw  = 461.4 \n",
    "Ra  = 286.9\n",
    "Lv  = 2501\n",
    "cpa = 1.006 \n",
    "cpv = 1.86\n",
    "\n",
    "# Presión de vapor de saturación.\n",
    "def Pvs( T ): # Pa\n",
    "    return np.exp( 77.3450 + 0.0057 * T - 7235 / T ) / T**8.2\n",
    "\n",
    "# Humedad absoluta de saturación.\n",
    "def rs( T, P ): # g/kg\n",
    "    return ( 1000 * (Ra/Rw) * Pvs(T) ) / ( P - Pvs(T) )"
   ]
  },
  {
   "cell_type": "code",
   "execution_count": null,
   "metadata": {},
   "outputs": [],
   "source": [
    "path = \"/Users/rodrigo/Desktop/zzR_zz_Mega_Variables_Extraidas.nc\"#\n",
    "path_2 = \"/Users/rodrigo/Desktop/zzR_zz_Mega_Variables_Extraidas_2.nc\"\n",
    "\n",
    "ds = xr.open_dataset( path, chunks = {\"south_north\": 60, \"west_east\": 70} )\n",
    "ds = ds.rename_vars( { \"XTIME\": \"time\", \"XLONG\": \"lon\", \"XLAT\": \"lat\",\n",
    "    \"T2\": \"Temperature\", \"PSFC\": \"Pressure\", \"SWDOWN\": \"GHI\" } )\n",
    "ds[\"lon\"] = ds[\"lon\"].isel({\"south_north\": 0})\n",
    "ds[\"lat\"] = ds[\"lat\"].isel({\"west_east\": 0})\n",
    "ds = ds.swap_dims({\"south_north\": \"lat\", \"west_east\": \"lon\", \"XTIME\": \"time\"})\n",
    "\n",
    "ds[\"Wind Speed\"] = np.sqrt( np.square(ds[\"U10\"]) + np.square(ds[\"V10\"]) )\n",
    "\n",
    "ds[\"Wind Direction\"] = np.arctan2( ds[\"V10\"], ds[\"U10\"] ) * 180 / np.pi - 90\n",
    "ds[\"Wind Direction\"] = ds[\"Wind Direction\"].where(\n",
    "    ds[\"Wind Direction\"] > 0, ds[\"Wind Direction\"] + 360 )\n",
    "\n",
    "ds[\"Relative Humidity\"] = ( 100 * ds[\"Q2\"]\n",
    "    / rs( ds[\"Temperature\"], ds[\"Pressure\"] ) )\n",
    "ds[\"Relative Humidity\"] = ds[\"Relative Humidity\"].where(\n",
    "    ds[\"Relative Humidity\"] > 100, 100 )\n",
    "\n",
    "ds = ds.drop_vars( [\"U10\", \"V10\", \"Q2\"] )\n",
    "\n",
    "ds[\"Wind Speed\"] = ds[\"Wind Speed\"].assign_attrs( units = \"m/s\" )\n",
    "ds[\"Wind Direction\"] = ds[\"Wind Direction\"].assign_attrs( units = \"degrees\" )\n",
    "ds[\"Relative Humidity\"] = ds[\"Relative Humidity\"].assign_attrs( units = \"%\" )\n",
    "\n",
    "ds.to_netcdf( path_2 )\n",
    "\n",
    "ds"
   ]
  }
 ],
 "metadata": {
  "kernelspec": {
   "display_name": "gv",
   "language": "python",
   "name": "python3"
  },
  "language_info": {
   "name": "python",
   "version": "3.9.9"
  }
 },
 "nbformat": 4,
 "nbformat_minor": 2
}
