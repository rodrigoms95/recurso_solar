{
 "cells": [
  {
   "cell_type": "code",
   "execution_count": 1,
   "metadata": {},
   "outputs": [],
   "source": [
    "# Modifica las variables de WRF para poder hacer el mapeo de cuantiles.\n",
    "\n",
    "import numpy as np\n",
    "import pandas as pd\n",
    "\n",
    "import xarray as xr\n",
    "import os"
   ]
  },
  {
   "cell_type": "code",
   "execution_count": 2,
   "metadata": {},
   "outputs": [
    {
     "name": "stdout",
     "output_type": "stream",
     "text": [
      "01,"
     ]
    }
   ],
   "source": [
    "# Cargamos el archivo.\n",
    "path_d = \"../data/WRF_miroc_1985_2014/\"\n",
    "path_r = \"../temp/quantile_prep/\"\n",
    "path_v = \"../temp/quantile_vars/\"\n",
    "\n",
    "# Iteramos para todos los archivos.\n",
    "files = os.listdir(path_d)\n",
    "files.sort()\n",
    "if \".DS_Store\" in files: files.remove(\".DS_Store\")\n",
    "for f in files:\n",
    "    print(f\"{f[-5:-3]}\", end=\",\")\n",
    "    with xr.open_dataset( path_d + f ) as ds:\n",
    "\n",
    "        # Creamos las variables.\n",
    "        ds[\"Wind_Speed\"] = np.sqrt( np.square(ds[\"U10\"])\n",
    "            + np.square(ds[\"V10\"]) ).astype(np.float32)\n",
    "        ds[\"Wind_Direction\"] = ( np.arctan2(ds[\"V10\"], ds[\"U10\"])\n",
    "            * 180/np.pi - 90 )\n",
    "        ds[\"Wind_Direction\"] = ds[\"Wind_Direction\"].where(\n",
    "            ds[\"Wind_Direction\"] > 0, ds[\"Wind_Direction\"] + 360\n",
    "            ).astype(np.float32)\n",
    "        ds = ds.drop_vars( [\"U10\", \"V10\"] )\n",
    "        ds[\"T_C\"] = ds[\"T2\"] - 273.15\n",
    "        ds[\"Pvs\"] = 611.21*np.exp( ( 18.678 - ds[\"T_C\"]/234.5 )\n",
    "            * ( ds[\"T_C\"]/(257.14+ds[\"T_C\"]) ) )\n",
    "        ds = ds.drop_vars( \"T_C\" )\n",
    "        ds[\"Q2\"] = ds[\"Q2\"].where( ds[\"Q2\"] > 0.0001, 0.0001 )\n",
    "        ds[\"Relative_Humidity\"] = ( 100 * ds[\"Q2\"] * 461.4/286.9\n",
    "            * ( ds[\"PSFC\"]/ds[\"Pvs\"] - 1 ) )\n",
    "        ds[\"Relative_Humidity\"] = ds[\"Relative_Humidity\"].where(\n",
    "            ds[\"Relative_Humidity\"] < 100, 100 ).astype(np.float32)\n",
    "        ds = ds.drop_vars( [\"Q2\", \"Pvs\"] )\n",
    "\n",
    "        # Reordenamos el Dataset.\n",
    "        ds[\"Wind_Speed\"] = ds[\"Wind_Speed\"].assign_attrs( units = \"m/s\" )\n",
    "        ds[\"Relative_Humidity\"] = ds[ \"Relative_Humidity\"\n",
    "            ].assign_attrs( units = \"%\" )\n",
    "        ds[\"Wind_Direction\"] = ds [\"Wind_Direction\"\n",
    "            ].assign_attrs( units = \"degrees\" )\n",
    "        ds = ds.rename_vars( { \"T2\": \"Temperature\",\n",
    "            \"PSFC\": \"Pressure\", \"SWDOWN\": \"GHI\" } )\n",
    "\n",
    "        # Guardamos el archivo.\n",
    "        ds.to_netcdf( path_r + f, mode = \"w\" )\n",
    "\n",
    "        # Guardamos las variables individuales.\n",
    "        vars = [\"Temperature\", \"Pressure\", \"Relative_Humidity\",\n",
    "            \"Wind_Speed\", \"Wind_Direction\", \"GHI\"]\n",
    "        for v in vars:\n",
    "            ds[[v]].to_netcdf( path_v + v + \"/\" + f, mode = \"w\" )"
   ]
  }
 ],
 "metadata": {
  "kernelspec": {
   "display_name": "gv",
   "language": "python",
   "name": "python3"
  },
  "language_info": {
   "codemirror_mode": {
    "name": "ipython",
    "version": 3
   },
   "file_extension": ".py",
   "mimetype": "text/x-python",
   "name": "python",
   "nbconvert_exporter": "python",
   "pygments_lexer": "ipython3",
   "version": "3.12.2"
  }
 },
 "nbformat": 4,
 "nbformat_minor": 2
}
