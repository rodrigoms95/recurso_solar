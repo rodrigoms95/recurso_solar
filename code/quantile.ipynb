{
 "cells": [
  {
   "cell_type": "code",
   "execution_count": null,
   "metadata": {},
   "outputs": [],
   "source": [
    "# Corrección de cuantiles empírica.\n",
    "\n",
    "import os\n",
    "\n",
    "import pandas as pd\n",
    "import numpy  as np"
   ]
  },
  {
   "cell_type": "code",
   "execution_count": null,
   "metadata": {},
   "outputs": [],
   "source": [
    "# Rutas de archivos.\n",
    "\n",
    "path_d = \"../results/NSRDB/\"\n",
    "path_r = \"../results/NSRDB_2/\"\n",
    "path_c = \"../results/NSRDB_quantile/\"\n",
    "\n",
    "if not os.path.exists(path_c): os.mkdir(path_c)\n",
    "\n",
    "files_d = os.listdir(path_d)\n",
    "files_r = os.listdir(path_r)\n",
    "\n",
    "if \".DS_Store\" in files_d: files_d.remove(\".DS_Store\")\n",
    "if \".DS_Store\" in files_r: files_r.remove(\".DS_Store\")"
   ]
  },
  {
   "cell_type": "code",
   "execution_count": null,
   "metadata": {},
   "outputs": [],
   "source": [
    "# Iteramos para todas las coordenadas.\n",
    "for i in range( len(files_d) ):\n",
    "    df_d = pd.read_csv( f\"{path_d}{files_d[i]}\", index_col = \"time\",\n",
    "        parse_dates = True, infer_datetime_format = True )\n",
    "    df_r = pd.read_csv( f\"{path_r}{files_r[i]}\", index_col = \"time\",\n",
    "        parse_dates = True, infer_datetime_format = True )\n",
    "\n",
    "    # Creamos un DataFrame de apoyo.\n",
    "    df_c = df_r.copy()\n",
    "    # Iteramos para todas las columnas.\n",
    "    for v in df_d.columns:\n",
    "        # Ordenamos los valores originales incluyendo el tiempo.\n",
    "        df_i = df_d[ [v] ].sort_values(v).reset_index()\n",
    "        # Calculamos la distribución acumulada.\n",
    "        df_i[\"CDF\"] = np.linspace( 1 / df_i.shape[0] , 1, df_i.shape[0] )\n",
    "\n",
    "        # Ordenamos los valores destino incluyendo el tiempo.\n",
    "        df_j = df_r[ [v] ].sort_values(v).reset_index()\n",
    "        # Calculamos la distribución acumulada.\n",
    "        df_j[\"CDF\"] = np.linspace( 1 / df_j.shape[0] , 1, df_j.shape[0] )\n",
    "\n",
    "        # Interpolamos los valores de la distribución origen a la destino.\n",
    "        df_j[\"Cuant\"] = np.interp( df_j[\"CDF\"], df_i[\"CDF\"],\n",
    "            df_i[v] ).round( decimals = 1 )\n",
    "        # Reordenamos los valores.\n",
    "        df_c[v] = df_j.sort_values(\"time\").set_index( \"time\" ).drop( [v, \"CDF\"],\n",
    "            axis = 1 ).rename( {\"Cuant\": v}, axis = 1 )\n",
    "\n",
    "    df_c.to_csv( f\"{path_c}{files_r[i]}\" )"
   ]
  }
 ],
 "metadata": {
  "language_info": {
   "name": "python"
  }
 },
 "nbformat": 4,
 "nbformat_minor": 2
}
