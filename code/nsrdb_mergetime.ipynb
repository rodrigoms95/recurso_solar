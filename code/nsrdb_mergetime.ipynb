{
 "cells": [
  {
   "cell_type": "code",
   "execution_count": 1,
   "metadata": {},
   "outputs": [],
   "source": [
    "# Une todos los años en un solo CSV.\n",
    "\n",
    "import os\n",
    "import sys\n",
    "\n",
    "import numpy as np\n",
    "import pandas as pd\n",
    "\n",
    "import xarray as xr"
   ]
  },
  {
   "cell_type": "code",
   "execution_count": null,
   "metadata": {},
   "outputs": [],
   "source": [
    "# Datos.\n",
    "y_i = 1998\n",
    "y_f = 2022\n",
    "years  = list( range(y_i, y_f + 1) )\n",
    "months = list( range(1, 13) )\n",
    "columns = [ \"Year\", \"Month\", \"Day\", \"Hour\", \"Minute\",\n",
    "    \"Temperature\", \"Dew Point\", \"Wind Speed\", \"GHI\" ]\n",
    "\n",
    "# Rutas de archivos\n",
    "path_d = \"../data/NSRDB/\"\n",
    "path_r = \"../results/NSRDB/\"\n",
    "if not os.path.exists(path_r): os.mkdir(path_r)\n",
    "dirs = os.listdir(path_d)\n",
    "if \".DS_Store\" in dirs: dirs.remove(\".DS_Store\")"
   ]
  },
  {
   "cell_type": "code",
   "execution_count": 29,
   "metadata": {},
   "outputs": [],
   "source": [
    "# Unimos los CSV.\n",
    "\n",
    "for d in dirs:\n",
    "    lat = d[0:5]\n",
    "    lon = d[-6:]\n",
    "\n",
    "    # Unimos todos los años.\n",
    "    df = pd.DataFrame( columns = columns )\n",
    "    for file in os.listdir(f\"{path_d}{d}\"):\n",
    "        df = df.append( pd.read_csv( f\"{path_d}{d}/{file}\", skiprows = 2 ) )\n",
    "\n",
    "    # Convertimos a fecha.\n",
    "    df[\"time\"] = pd.to_datetime( df[\"Year\"].astype(str) + \"/\"\n",
    "        + df[\"Month\"].astype(str) + \"/\" + df[\"Day\"].astype(str)\n",
    "        + \" \" + df[\"Hour\"].astype(str) + \":00:00\" )\n",
    "    \n",
    "    # Corregimos formato de columnas.\n",
    "    df = df.drop( columns[0:5], axis = 1 ).set_index(\n",
    "        \"time\" ).sort_index().round( decimals = 1 )\n",
    "    \n",
    "    # Guardamos el archivo.\n",
    "    df.to_csv(f\"{path_r}{lat}_{lon}.csv\")"
   ]
  }
 ],
 "metadata": {
  "kernelspec": {
   "display_name": "gv",
   "language": "python",
   "name": "python3"
  },
  "language_info": {
   "codemirror_mode": {
    "name": "ipython",
    "version": 3
   },
   "file_extension": ".py",
   "mimetype": "text/x-python",
   "name": "python",
   "nbconvert_exporter": "python",
   "pygments_lexer": "ipython3",
   "version": "3.9.9"
  }
 },
 "nbformat": 4,
 "nbformat_minor": 2
}
