{
 "cells": [
  {
   "cell_type": "code",
   "execution_count": 1,
   "metadata": {},
   "outputs": [],
   "source": [
    "# Obtiene la curva de distribución acumulada del modelo.\n",
    "\n",
    "import os\n",
    "\n",
    "import numpy as np\n",
    "import pandas as pd\n",
    "\n",
    "import xarray as xr"
   ]
  },
  {
   "cell_type": "code",
   "execution_count": 3,
   "metadata": {},
   "outputs": [
    {
     "name": "stdout",
     "output_type": "stream",
     "text": [
      "\n",
      "Pressure\n",
      "00,\n",
      "Relative_Humidity\n",
      "00,\n",
      "Temperature\n",
      "00,\n",
      "Wind_Direction\n",
      "00,\n",
      "Wind_Speed\n",
      "00,\n",
      "DNI\n",
      "00,\n",
      "GHI\n",
      "00,\n",
      "UVHI\n",
      "00,"
     ]
    }
   ],
   "source": [
    "path_d = \"../temp/quantile_vars/\"\n",
    "path_r = \"../temp/quantile_vars_model/\"\n",
    "\n",
    "vars = [ \"Pressure\", \"Relative_Humidity\", \"Temperature\",\n",
    "    \"Wind_Direction\", \"Wind_Speed\", \"DNI\", \"GHI\", \"UVHI\" ]\n",
    "\n",
    "for v in vars:\n",
    "    print(f\"\\n{v}\")\n",
    "    files = os.listdir(path_d + v + \"/\")\n",
    "    files.sort()\n",
    "    if \".DS_Store\" in files: files.remove(\".DS_Store\")\n",
    "    for f in files:\n",
    "        print( f\"{f[-5:-3]}\", end = \",\" )\n",
    "\n",
    "        with xr.open_dataset(path_d + v + \"/\" + f) as ds:\n",
    "            df = ds.to_dataframe()\n",
    "            if v in vars[-3:]: df = df[ df>0 ].dropna()\n",
    "            latitude = df.index.get_level_values(\"lat\").unique()\n",
    "            longitude = df.index.get_level_values(\"lon\").unique()\n",
    "            time = df.index.get_level_values(\"time\").unique()\n",
    "            df = df.reset_index().set_index([\"lat\", \"lon\"]).sort_index()\n",
    "\n",
    "            df[\"q_model\"] = 0.0\n",
    "            for lat in latitude:\n",
    "                for lon in longitude:\n",
    "                    df_c = df.xs( (lat, lon) ).sort_values(v)\n",
    "                    q_model = np.linspace( 1/df_c.shape[0], 1, df_c.shape[0] )\n",
    "                    df_c[\"q_model\"] = q_model\n",
    "                    df.loc[ (lat, lon) ] = df_c\n",
    "\n",
    "            df = df.reset_index().set_index(\n",
    "                [\"time\", \"lat\", \"lon\"] ).sort_index()\n",
    "            df.to_xarray().transpose( \"time\", \"lat\", \"lon\"\n",
    "                ).to_netcdf(path_r + v + \"/\" + f, mode = \"w\" )"
   ]
  }
 ],
 "metadata": {
  "kernelspec": {
   "display_name": "gv",
   "language": "python",
   "name": "python3"
  },
  "language_info": {
   "codemirror_mode": {
    "name": "ipython",
    "version": 3
   },
   "file_extension": ".py",
   "mimetype": "text/x-python",
   "name": "python",
   "nbconvert_exporter": "python",
   "pygments_lexer": "ipython3",
   "version": "3.12.2"
  }
 },
 "nbformat": 4,
 "nbformat_minor": 2
}
