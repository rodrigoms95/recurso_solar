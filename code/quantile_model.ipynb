{
 "cells": [
  {
   "cell_type": "code",
   "execution_count": 1,
   "metadata": {},
   "outputs": [],
   "source": [
    "import os\n",
    "\n",
    "import numpy as np\n",
    "import pandas as pd\n",
    "\n",
    "import xarray as xr"
   ]
  },
  {
   "cell_type": "code",
   "execution_count": 2,
   "metadata": {},
   "outputs": [
    {
     "name": "stdout",
     "output_type": "stream",
     "text": [
      "\n",
      "Pressure\n",
      "20,21,22,23,24,\n",
      "Relative Humidity\n",
      "20,21,22,23,24,\n",
      "Temperature\n",
      "20,21,22,23,24,\n",
      "Wind Direction\n",
      "20,21,22,23,24,\n",
      "Wind Speed\n",
      "20,21,22,23,24,\n",
      "DNI\n",
      "20,21,22,23,24,\n",
      "GHI\n",
      "20,21,22,23,24,\n",
      "UVHI\n",
      "20,21,22,23,24,"
     ]
    }
   ],
   "source": [
    "path_d = \"../temp/quantile_vars/\"\n",
    "path_r = \"../temp/quantile_vars_model/\"\n",
    "\n",
    "vars = [ \"Pressure\", \"Relative Humidity\", \"Temperature\",\n",
    "    \"Wind Direction\", \"Wind Speed\", \"DNI\", \"GHI\", \"UVHI\" ]\n",
    "\n",
    "for v in vars:\n",
    "    print(f\"\\n{v}\")\n",
    "    files = os.listdir(path_d + v + \"/\")\n",
    "    files.sort()\n",
    "    if \".DS_Store\" in files: files.remove(\".DS_Store\")\n",
    "    for f in files:\n",
    "        print( f\"{f[-5:-3]}\", end = \",\" )\n",
    "\n",
    "        with xr.open_dataset(path_d + v + \"/\" + f) as ds:\n",
    "            df = ds.to_dataframe()\n",
    "            if v in vars[-3:]:\n",
    "                df = df[ df>0 ].dropna()\n",
    "            latitude = df.index.get_level_values(\"lat\").unique()\n",
    "            longitude = df.index.get_level_values(\"lon\").unique()\n",
    "            time = df.index.get_level_values(\"time\").unique()\n",
    "            df = df.reset_index().set_index([\"lat\", \"lon\"]).sort_index()\n",
    "            q_model = np.linspace( 1/time.shape[0], 1, time.shape[0] )\n",
    "\n",
    "            df[\"q_model\"] = 0.0\n",
    "            for lat in latitude:\n",
    "                for lon in longitude:\n",
    "                    df_c = df.xs( (lat, lon) ).sort_values(v)\n",
    "                    df_c[\"q_model\"] = q_model\n",
    "                    df.loc[ (lat, lon) ] = df_c\n",
    "\n",
    "            df = df.reset_index().set_index(\n",
    "                [\"q_model\", \"lat\", \"lon\"] ).sort_index()\n",
    "            if v in vars[-3:]:\n",
    "                df.to_csv(path_r + v + \"/\" + f[:-2] + \"csv\", mode = \"w\" )\n",
    "            else:\n",
    "                df.to_xarray().to_netcdf(path_r + v + \"/\" + f, mode = \"w\" )"
   ]
  }
 ],
 "metadata": {
  "kernelspec": {
   "display_name": "gv",
   "language": "python",
   "name": "python3"
  },
  "language_info": {
   "codemirror_mode": {
    "name": "ipython",
    "version": 3
   },
   "file_extension": ".py",
   "mimetype": "text/x-python",
   "name": "python",
   "nbconvert_exporter": "python",
   "pygments_lexer": "ipython3",
   "version": "3.12.2"
  }
 },
 "nbformat": 4,
 "nbformat_minor": 2
}
