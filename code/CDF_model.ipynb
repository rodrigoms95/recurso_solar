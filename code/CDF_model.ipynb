{
 "cells": [
  {
   "cell_type": "code",
   "execution_count": 1,
   "metadata": {},
   "outputs": [],
   "source": [
    "# Obtiene la curva de distribución acumulada del modelo.\n",
    "\n",
    "import os\n",
    "\n",
    "import numpy as np\n",
    "import pandas as pd\n",
    "\n",
    "import xarray as xr"
   ]
  },
  {
   "cell_type": "code",
   "execution_count": 2,
   "metadata": {},
   "outputs": [
    {
     "name": "stdout",
     "output_type": "stream",
     "text": [
      "\n",
      "Pressure\n",
      "01,\n",
      "Relative_Humidity\n",
      "01,\n",
      "Temperature\n",
      "01,\n",
      "Wind_Direction\n",
      "01,\n",
      "Wind_Speed\n",
      "01,\n",
      "DNI\n",
      "01,\n",
      "GHI\n",
      "01,\n",
      "UVHI\n",
      "01,"
     ]
    }
   ],
   "source": [
    "path_d = \"../temp/quantile_vars/\"\n",
    "path_r = \"../temp/CDF_vars_model/\"\n",
    "\n",
    "vars = [ \"Pressure\", \"Relative_Humidity\", \"Temperature\",\n",
    "    \"Wind_Direction\", \"Wind_Speed\", \"DNI\", \"GHI\", \"UVHI\" ]\n",
    "\n",
    "# Iteramos para todas las variables a mapear.\n",
    "for v in vars:\n",
    "    print(f\"\\n{v}\")\n",
    "\n",
    "    # Iteramos para todos los archivos.\n",
    "    files = os.listdir(path_d + v + \"/\")\n",
    "    files.sort()\n",
    "    if \".DS_Store\" in files: files.remove(\".DS_Store\")\n",
    "    for f in files:\n",
    "        print( f\"{f[-5:-3]}\", end = \",\" )\n",
    "\n",
    "        with xr.open_dataset(path_d + v + \"/\" + f) as ds:\n",
    "            df = ds.to_dataframe().drop( [\"XLAT\", \"XLONG\"], axis = 1 )\n",
    "\n",
    "            # A las variables de radiación les quitamos los ceros.\n",
    "            if v in vars[-3:]: df = df[ df>0 ].dropna()\n",
    "\n",
    "            latitude = df.index.get_level_values(\"south_north\").unique()\n",
    "            longitude = df.index.get_level_values(\"west_east\").unique()\n",
    "\n",
    "            # Obtenemos la curva de distribución acumulada para cada celda.\n",
    "            df[\"q_model\"] = 0.0\n",
    "            for lat in latitude:\n",
    "                for lon in longitude:\n",
    "                    df_c = df.xs( (slice(None), lat, lon) ).sort_values(v)\n",
    "                    df_c[\"q_model\"] = np.linspace(\n",
    "                        1/df_c.shape[0], 1, df_c.shape[0] )\n",
    "                    df.loc[ (slice(None), lat, lon), \"q_model\"\n",
    "                        ] = df_c[\"q_model\"].values\n",
    "\n",
    "            ds[\"q_model\"] = df[\"q_model\"].to_xarray()\n",
    "            # Guardamos el archivo.\n",
    "            ds.to_netcdf(path_r + v + \"/\" + f, mode = \"w\" )"
   ]
  }
 ],
 "metadata": {
  "kernelspec": {
   "display_name": "gv",
   "language": "python",
   "name": "python3"
  },
  "language_info": {
   "codemirror_mode": {
    "name": "ipython",
    "version": 3
   },
   "file_extension": ".py",
   "mimetype": "text/x-python",
   "name": "python",
   "nbconvert_exporter": "python",
   "pygments_lexer": "ipython3",
   "version": "3.12.2"
  }
 },
 "nbformat": 4,
 "nbformat_minor": 2
}
