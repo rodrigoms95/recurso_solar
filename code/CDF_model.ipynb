{
 "cells": [
  {
   "cell_type": "code",
   "execution_count": 1,
   "metadata": {},
   "outputs": [],
   "source": [
    "# Obtiene la curva de distribución acumulada del modelo.\n",
    "\n",
    "import os\n",
    "\n",
    "import numpy as np\n",
    "import pandas as pd\n",
    "\n",
    "import xarray as xr"
   ]
  },
  {
   "cell_type": "code",
   "execution_count": 14,
   "metadata": {},
   "outputs": [
    {
     "name": "stdout",
     "output_type": "stream",
     "text": [
      "\n",
      "Pressure\n",
      "54,\n",
      "Relative_Humidity\n",
      "54,\n",
      "Temperature\n",
      "54,\n",
      "Wind_Direction\n",
      "54,\n",
      "Wind_Speed\n",
      "54,\n",
      "DNI\n",
      "54,\n",
      "GHI\n",
      "54,\n",
      "UVHI\n",
      "54,"
     ]
    }
   ],
   "source": [
    "vars = [ \"Pressure\", \"Relative_Humidity\", \"Temperature\",\n",
    "    \"Wind_Direction\", \"Wind_Speed\", \"DNI\", \"GHI\", \"UVHI\",\n",
    "    #\"Surface_Albedo\", \"Precipitable_Water\"\n",
    "    ]\n",
    "dims = [ \"XTIME\", \"south_north\", \"west_east\" ]\n",
    "\n",
    "model = False\n",
    "if model:\n",
    "    path_d = \"../temp/TMY/quantile_vars/\"\n",
    "    path_r = \"../temp/TMY/CDF_vars_model/\"\n",
    "else:\n",
    "    path_d = \"../temp/NSRDB/quantile_vars/\"\n",
    "    path_r = \"../temp/NSRDB/CDF_vars_model/\"\n",
    "\n",
    "    #vars += [ \"UV_A\", \"UV_B\" ]\n",
    "\n",
    "# Iteramos para todas las variables a mapear.\n",
    "for v in vars:\n",
    "    print(f\"\\n{v}\")\n",
    "\n",
    "    # Iteramos para todos los archivos.\n",
    "    files = os.listdir( path_d + v + \"/\" )\n",
    "    files.sort()\n",
    "    if \".DS_Store\" in files: files.remove(\".DS_Store\")\n",
    "    for f in files:\n",
    "        print( f\"{f[-5:-3]}\", end = \",\" )\n",
    "\n",
    "        with xr.open_dataset(path_d + v + \"/\" + f) as ds:\n",
    "            ds_2 = ds.drop_vars( list(ds.keys()) ).copy() \n",
    "            df = ds.to_dataframe().drop( [\"XLAT\", \"XLONG\"], axis = 1 )\n",
    "\n",
    "            # A las variables de radiación les quitamos los ceros.\n",
    "            if v in vars[-3:]: df = df[ df>0 ].dropna()\n",
    "\n",
    "            latitude = df.index.get_level_values(dims[1]).unique()\n",
    "            longitude = df.index.get_level_values(dims[2]).unique()\n",
    "\n",
    "            # Obtenemos la curva de distribución acumulada para cada celda.\n",
    "            df[\"q_model\"] = 0.0\n",
    "            for lat in latitude:\n",
    "                for lon in longitude:\n",
    "                    df_c = df.xs( (slice(None), lat, lon) ).sort_values(v)\n",
    "                    df_c[\"q_model\"] = np.linspace(\n",
    "                        1/df_c.shape[0], 1, df_c.shape[0] )\n",
    "                    df.loc[ (slice(None), lat, lon), \"q_model\"\n",
    "                        ] = df_c[\"q_model\"].values\n",
    "\n",
    "            ds_2[\"q_model\"] = df[\"q_model\"].to_xarray()\n",
    "            ds[\"q_model\"] = ( dims, ds_2[\"q_model\"].values )\n",
    "            # Guardamos el archivo.\n",
    "            if not os.path.exists( path_r + v + \"/\"):\n",
    "                os.mkdir( path_r + v + \"/\" )\n",
    "            ds.to_netcdf( path_r + v + \"/\" + f, mode = \"w\" )"
   ]
  }
 ],
 "metadata": {
  "kernelspec": {
   "display_name": "gv",
   "language": "python",
   "name": "python3"
  },
  "language_info": {
   "codemirror_mode": {
    "name": "ipython",
    "version": 3
   },
   "file_extension": ".py",
   "mimetype": "text/x-python",
   "name": "python",
   "nbconvert_exporter": "python",
   "pygments_lexer": "ipython3",
   "version": "3.12.2"
  }
 },
 "nbformat": 4,
 "nbformat_minor": 2
}
