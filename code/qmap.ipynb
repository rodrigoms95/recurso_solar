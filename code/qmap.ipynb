{
 "cells": [
  {
   "cell_type": "code",
   "execution_count": 2,
   "metadata": {},
   "outputs": [],
   "source": [
    "# Obtiene la curva de distribución acumulada del modelo.\n",
    "\n",
    "import os\n",
    "\n",
    "import numpy as np\n",
    "import pandas as pd\n",
    "\n",
    "import xarray as xr"
   ]
  },
  {
   "cell_type": "code",
   "execution_count": 5,
   "metadata": {},
   "outputs": [
    {
     "name": "stdout",
     "output_type": "stream",
     "text": [
      "\n",
      "Pressure\n",
      "54,\n",
      "Relative_Humidity\n",
      "54,\n",
      "Temperature\n",
      "54,\n",
      "Wind_Direction\n",
      "54,\n",
      "Wind_Speed\n",
      "54,\n",
      "DNI\n",
      "54,\n",
      "GHI\n",
      "54,\n",
      "UVHI\n",
      "54,"
     ]
    }
   ],
   "source": [
    "vars = [ \"Pressure\", \"Relative_Humidity\", \"Temperature\",\n",
    "    \"Wind_Direction\", \"Wind_Speed\", \"DNI\", \"GHI\", \"UVHI\",\n",
    "    #\"Surface_Albedo\", \"Precipitable_Water\"\n",
    "    ]\n",
    "dims = [\"XTIME\", \"south_north\", \"west_east\"]\n",
    "\n",
    "path_d   = \"../temp/NSRDB/CDF_vars_model/\"\n",
    "path_m   = \"../temp/TMY/CDF_vars_model/\"\n",
    "path_res = \"../temp/TMY/CDF_vars_map/\"\n",
    "path_map = \"../temp/TMY/qmap_vars/\"\n",
    "\n",
    "for v in vars:\n",
    "    print(f\"\\n{v}\")\n",
    "\n",
    "    # Iteramos para todos los archivos.\n",
    "    files = os.listdir( path_d + v + \"/\" )\n",
    "    files.sort()\n",
    "    if \".DS_Store\" in files: files.remove(\".DS_Store\")\n",
    "    for f in files:\n",
    "        print( f\"{f[-5:-3]}\", end = \",\" )\n",
    "        \n",
    "        with xr.open_dataset(path_m + v + \"/\" + f) as ds_m:\n",
    "            with xr.open_dataset(path_d + v + \"/\" + f) as ds_d:\n",
    "                \n",
    "                ds_m = ds_m.isel( { \"south_north\": slice(1, 4),\n",
    "                    \"west_east\": slice(2, 5) } )\n",
    "                ds_m[\"south_north\"] = [0, 1, 2]\n",
    "                ds_m[\"west_east\"  ] = [0, 1, 2]\n",
    "\n",
    "                df_d = ds_d.to_dataframe()\n",
    "                df_m = ds_m.to_dataframe()\n",
    "\n",
    "                df_m[\"map\"] = np.interp( df_m[\"q_model\"],\n",
    "                    df_d[\"q_model\"], df_d[v] )\n",
    "                \n",
    "            df_m[\"diff_sum\"] = df_m[v] - df_m[\"map\"]\n",
    "            df_m[\"diff_div\"] = df_m[v] / df_m[\"map\"]\n",
    "\n",
    "            ds_map = df_m.to_xarray()\n",
    "            ds_m[\"map\"] = ( dims, ds_map[\"map\"].values )\n",
    "            ds_m[\"diff_sum\"] = ( dims, ds_map[\"diff_sum\"].values )\n",
    "            ds_m[\"diff_div\"] = ( dims, ds_map[\"diff_div\"].values )\n",
    "\n",
    "            ds_m.to_netcdf( f\"{path_res}{v}/{f}\" )\n",
    "            if not os.path.exists( f\"{path_map}{f[:-3]}/\" ):\n",
    "                os.mkdir( f\"{path_map}{f[:-3]}/\" )\n",
    "            ds_m[[\"map\"]].rename( {\"map\": v} ).to_netcdf(\n",
    "                f\"{path_map}{f[:-3]}/{f[:-3]}_{v}.nc\" )"
   ]
  }
 ],
 "metadata": {
  "kernelspec": {
   "display_name": "xarray",
   "language": "python",
   "name": "python3"
  },
  "language_info": {
   "codemirror_mode": {
    "name": "ipython",
    "version": 3
   },
   "file_extension": ".py",
   "mimetype": "text/x-python",
   "name": "python",
   "nbconvert_exporter": "python",
   "pygments_lexer": "ipython3",
   "version": "3.12.2"
  }
 },
 "nbformat": 4,
 "nbformat_minor": 2
}
